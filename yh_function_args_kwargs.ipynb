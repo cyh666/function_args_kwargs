{
 "cells": [
  {
   "cell_type": "markdown",
   "metadata": {},
   "source": [
    "*args **kwargs"
   ]
  },
  {
   "cell_type": "code",
   "execution_count": 37,
   "metadata": {},
   "outputs": [
    {
     "name": "stdout",
     "output_type": "stream",
     "text": [
      "args is: (1, 5, 8, 9)\n",
      "The #1 variable is: 1\n",
      "kwarg is: {'one': 3, 'two': 8}\n",
      "The #2 variable is: 5\n",
      "kwarg is: {'one': 3, 'two': 8}\n",
      "The #3 variable is: 8\n",
      "kwarg is: {'one': 3, 'two': 8}\n",
      "The #4 variable is: 9\n",
      "kwarg is: {'one': 3, 'two': 8}\n"
     ]
    }
   ],
   "source": [
    "def func1(*args, **kwargs):\n",
    "    i=1\n",
    "    print('args is:', args )\n",
    "    for var in args:\n",
    "        print(f\"The #{i} variable is: {var}\")\n",
    "        print(\"kwarg is:\", kwargs)\n",
    "        i+=1\n",
    "        \n",
    "params = [1,5,8,9]\n",
    "params2 = [3,8]\n",
    "        \n",
    "func1(*params, one=params2[0], two=params2[1])"
   ]
  },
  {
   "cell_type": "markdown",
   "metadata": {},
   "source": [
    "lambda function"
   ]
  },
  {
   "cell_type": "code",
   "execution_count": 36,
   "metadata": {},
   "outputs": [
    {
     "name": "stdout",
     "output_type": "stream",
     "text": [
      "[3, 5, 7, 10, 17, 32, 525, 1003, 210014]\n",
      "[8, 30, 210012]\n"
     ]
    }
   ],
   "source": [
    "x= [1,3,5,8,15,30,523,1001,210012]\n",
    "\n",
    "mp1 = map(lambda i: i+2, x)\n",
    "mp2 = filter(lambda i: i%2 == 0, x)\n",
    "\n",
    "print(list(mp1))\n",
    "print(list(mp2))"
   ]
  },
  {
   "cell_type": "code",
   "execution_count": null,
   "metadata": {},
   "outputs": [],
   "source": []
  }
 ],
 "metadata": {
  "kernelspec": {
   "display_name": "Python 3",
   "language": "python",
   "name": "python3"
  },
  "language_info": {
   "codemirror_mode": {
    "name": "ipython",
    "version": 3
   },
   "file_extension": ".py",
   "mimetype": "text/x-python",
   "name": "python",
   "nbconvert_exporter": "python",
   "pygments_lexer": "ipython3",
   "version": "3.7.0"
  }
 },
 "nbformat": 4,
 "nbformat_minor": 2
}
